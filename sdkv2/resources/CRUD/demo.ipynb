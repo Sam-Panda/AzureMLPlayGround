{
 "cells": [
  {
   "cell_type": "markdown",
   "metadata": {},
   "source": [
    "Install the Azure ML client library for Python with pip:\n",
    "pip install azure-ai-ml\n",
    "pip install azure-identity"
   ]
  },
  {
   "cell_type": "code",
   "execution_count": 1,
   "metadata": {},
   "outputs": [
    {
     "name": "stdout",
     "output_type": "stream",
     "text": [
      "Collecting azure-ai-ml\n",
      "  Using cached azure_ai_ml-1.9.0-py3-none-any.whl (6.9 MB)\n",
      "Collecting marshmallow<4.0.0,>=3.5\n",
      "  Downloading marshmallow-3.20.1-py3-none-any.whl (49 kB)\n",
      "     ---------------------------------------- 49.4/49.4 kB ? eta 0:00:00\n",
      "Requirement already satisfied: typing-extensions<5.0.0 in c:\\miniconda\\envs\\azureml_py310_sdkv2\\lib\\site-packages (from azure-ai-ml) (4.7.1)\n",
      "Requirement already satisfied: colorama<0.5.0 in c:\\miniconda\\envs\\azureml_py310_sdkv2\\lib\\site-packages (from azure-ai-ml) (0.4.6)\n",
      "Collecting opencensus-ext-azure<2.0.0\n",
      "  Downloading opencensus_ext_azure-1.1.9-py2.py3-none-any.whl (43 kB)\n",
      "     ---------------------------------------- 43.0/43.0 kB ? eta 0:00:00\n",
      "Collecting tqdm<5.0.0\n",
      "  Downloading tqdm-4.66.1-py3-none-any.whl (78 kB)\n",
      "     ---------------------------------------- 78.3/78.3 kB 4.5 MB/s eta 0:00:00\n",
      "Collecting azure-core<2.0.0,>=1.23.0\n",
      "  Downloading azure_core-1.29.3-py3-none-any.whl (191 kB)\n",
      "     ------------------------------------- 191.4/191.4 kB 11.3 MB/s eta 0:00:00\n",
      "Collecting azure-mgmt-core<2.0.0,>=1.3.0\n",
      "  Downloading azure_mgmt_core-1.4.0-py3-none-any.whl (27 kB)\n",
      "Collecting pydash<6.0.0\n",
      "  Downloading pydash-5.1.2-py3-none-any.whl (84 kB)\n",
      "     ---------------------------------------- 85.0/85.0 kB ? eta 0:00:00\n",
      "Collecting azure-storage-blob<13.0.0,>=12.10.0\n",
      "  Downloading azure_storage_blob-12.17.0-py3-none-any.whl (388 kB)\n",
      "     ------------------------------------- 388.0/388.0 kB 23.6 MB/s eta 0:00:00\n",
      "Collecting azure-storage-file-share<13.0.0\n",
      "  Downloading azure_storage_file_share-12.13.0-py3-none-any.whl (266 kB)\n",
      "     ------------------------------------- 266.1/266.1 kB 17.1 MB/s eta 0:00:00\n",
      "Collecting jsonschema<5.0.0,>=4.0.0\n",
      "  Downloading jsonschema-4.19.0-py3-none-any.whl (83 kB)\n",
      "     ---------------------------------------- 83.4/83.4 kB 4.9 MB/s eta 0:00:00\n",
      "Collecting azure-common<2.0.0,>=1.1\n",
      "  Downloading azure_common-1.1.28-py2.py3-none-any.whl (14 kB)\n",
      "Collecting isodate\n",
      "  Downloading isodate-0.6.1-py2.py3-none-any.whl (41 kB)\n",
      "     ---------------------------------------- 41.7/41.7 kB ? eta 0:00:00\n",
      "Collecting strictyaml<2.0.0\n",
      "  Downloading strictyaml-1.7.3-py3-none-any.whl (123 kB)\n",
      "     ---------------------------------------- 123.9/123.9 kB ? eta 0:00:00\n",
      "Collecting azure-storage-file-datalake<13.0.0\n",
      "  Downloading azure_storage_file_datalake-12.12.0-py3-none-any.whl (247 kB)\n",
      "     ------------------------------------- 247.8/247.8 kB 15.8 MB/s eta 0:00:00\n",
      "Collecting pyyaml<7.0.0,>=5.1.0\n",
      "  Downloading PyYAML-6.0.1-cp310-cp310-win_amd64.whl (145 kB)\n",
      "     -------------------------------------- 145.3/145.3 kB 9.0 MB/s eta 0:00:00\n",
      "Collecting pyjwt<3.0.0\n",
      "  Downloading PyJWT-2.8.0-py3-none-any.whl (22 kB)\n",
      "Collecting msrest>=0.6.18\n",
      "  Downloading msrest-0.7.1-py3-none-any.whl (85 kB)\n",
      "     ---------------------------------------- 85.4/85.4 kB 4.7 MB/s eta 0:00:00\n",
      "Requirement already satisfied: six>=1.11.0 in c:\\miniconda\\envs\\azureml_py310_sdkv2\\lib\\site-packages (from azure-core<2.0.0,>=1.23.0->azure-ai-ml) (1.16.0)\n",
      "Collecting requests>=2.18.4\n",
      "  Downloading requests-2.31.0-py3-none-any.whl (62 kB)\n",
      "     ---------------------------------------- 62.6/62.6 kB ? eta 0:00:00\n",
      "Collecting cryptography>=2.1.4\n",
      "  Downloading cryptography-41.0.3-cp37-abi3-win_amd64.whl (2.6 MB)\n",
      "     ---------------------------------------- 2.6/2.6 MB 82.2 MB/s eta 0:00:00\n",
      "Collecting rpds-py>=0.7.1\n",
      "  Downloading rpds_py-0.10.0-cp310-none-win_amd64.whl (184 kB)\n",
      "     ------------------------------------- 184.5/184.5 kB 10.9 MB/s eta 0:00:00\n",
      "Collecting attrs>=22.2.0\n",
      "  Downloading attrs-23.1.0-py3-none-any.whl (61 kB)\n",
      "     ---------------------------------------- 61.2/61.2 kB ? eta 0:00:00\n",
      "Collecting referencing>=0.28.4\n",
      "  Downloading referencing-0.30.2-py3-none-any.whl (25 kB)\n",
      "Collecting jsonschema-specifications>=2023.03.6\n",
      "  Downloading jsonschema_specifications-2023.7.1-py3-none-any.whl (17 kB)\n",
      "Requirement already satisfied: packaging>=17.0 in c:\\miniconda\\envs\\azureml_py310_sdkv2\\lib\\site-packages (from marshmallow<4.0.0,>=3.5->azure-ai-ml) (23.1)\n",
      "Collecting requests-oauthlib>=0.5.0\n",
      "  Downloading requests_oauthlib-1.3.1-py2.py3-none-any.whl (23 kB)\n",
      "Requirement already satisfied: certifi>=2017.4.17 in c:\\miniconda\\envs\\azureml_py310_sdkv2\\lib\\site-packages (from msrest>=0.6.18->azure-ai-ml) (2023.7.22)\n",
      "Collecting azure-identity<2.0.0,>=1.5.0\n",
      "  Downloading azure_identity-1.14.0-py3-none-any.whl (160 kB)\n",
      "     ------------------------------------- 160.2/160.2 kB 10.0 MB/s eta 0:00:00\n",
      "Collecting opencensus<1.0.0,>=0.11.2\n",
      "  Downloading opencensus-0.11.2-py2.py3-none-any.whl (128 kB)\n",
      "     -------------------------------------- 128.2/128.2 kB 7.4 MB/s eta 0:00:00\n",
      "Requirement already satisfied: psutil>=5.6.3 in c:\\miniconda\\envs\\azureml_py310_sdkv2\\lib\\site-packages (from opencensus-ext-azure<2.0.0->azure-ai-ml) (5.9.0)\n",
      "Requirement already satisfied: python-dateutil>=2.6.0 in c:\\miniconda\\envs\\azureml_py310_sdkv2\\lib\\site-packages (from strictyaml<2.0.0->azure-ai-ml) (2.8.2)\n",
      "Collecting msal<2.0.0,>=1.20.0\n",
      "  Downloading msal-1.23.0-py2.py3-none-any.whl (90 kB)\n",
      "     ---------------------------------------- 90.8/90.8 kB ? eta 0:00:00\n",
      "Collecting msal-extensions<2.0.0,>=0.3.0\n",
      "  Downloading msal_extensions-1.0.0-py2.py3-none-any.whl (19 kB)\n",
      "Collecting cffi>=1.12\n",
      "  Downloading cffi-1.15.1-cp310-cp310-win_amd64.whl (179 kB)\n",
      "     ------------------------------------- 179.1/179.1 kB 10.6 MB/s eta 0:00:00\n",
      "Collecting google-api-core<3.0.0,>=1.0.0\n",
      "  Downloading google_api_core-2.11.1-py3-none-any.whl (120 kB)\n",
      "     ---------------------------------------- 120.5/120.5 kB ? eta 0:00:00\n",
      "Collecting opencensus-context>=0.1.3\n",
      "  Downloading opencensus_context-0.1.3-py2.py3-none-any.whl (5.1 kB)\n",
      "Collecting urllib3<3,>=1.21.1\n",
      "  Downloading urllib3-2.0.4-py3-none-any.whl (123 kB)\n",
      "     ---------------------------------------- 123.9/123.9 kB ? eta 0:00:00\n",
      "Collecting idna<4,>=2.5\n",
      "  Downloading idna-3.4-py3-none-any.whl (61 kB)\n",
      "     ---------------------------------------- 61.5/61.5 kB ? eta 0:00:00\n",
      "Collecting charset-normalizer<4,>=2\n",
      "  Downloading charset_normalizer-3.2.0-cp310-cp310-win_amd64.whl (96 kB)\n",
      "     ---------------------------------------- 96.9/96.9 kB 5.4 MB/s eta 0:00:00\n",
      "Collecting oauthlib>=3.0.0\n",
      "  Downloading oauthlib-3.2.2-py3-none-any.whl (151 kB)\n",
      "     -------------------------------------- 151.7/151.7 kB 8.8 MB/s eta 0:00:00\n",
      "Collecting pycparser\n",
      "  Downloading pycparser-2.21-py2.py3-none-any.whl (118 kB)\n",
      "     -------------------------------------- 118.7/118.7 kB 2.3 MB/s eta 0:00:00\n",
      "Collecting googleapis-common-protos<2.0.dev0,>=1.56.2\n",
      "  Downloading googleapis_common_protos-1.60.0-py2.py3-none-any.whl (227 kB)\n",
      "     ------------------------------------- 227.6/227.6 kB 13.6 MB/s eta 0:00:00\n",
      "Collecting google-auth<3.0.dev0,>=2.14.1\n",
      "  Downloading google_auth-2.22.0-py2.py3-none-any.whl (181 kB)\n",
      "     ------------------------------------- 181.8/181.8 kB 10.7 MB/s eta 0:00:00\n",
      "Collecting protobuf!=3.20.0,!=3.20.1,!=4.21.0,!=4.21.1,!=4.21.2,!=4.21.3,!=4.21.4,!=4.21.5,<5.0.0.dev0,>=3.19.5\n",
      "  Downloading protobuf-4.24.2-cp310-abi3-win_amd64.whl (430 kB)\n",
      "     ------------------------------------- 430.4/430.4 kB 26.3 MB/s eta 0:00:00\n",
      "Collecting portalocker<3,>=1.6\n",
      "  Downloading portalocker-2.7.0-py2.py3-none-any.whl (15 kB)\n",
      "Collecting urllib3<3,>=1.21.1\n",
      "  Downloading urllib3-1.26.16-py2.py3-none-any.whl (143 kB)\n",
      "     ---------------------------------------- 143.1/143.1 kB ? eta 0:00:00\n",
      "Collecting cachetools<6.0,>=2.0.0\n",
      "  Downloading cachetools-5.3.1-py3-none-any.whl (9.3 kB)\n",
      "Collecting rsa<5,>=3.1.4\n",
      "  Downloading rsa-4.9-py3-none-any.whl (34 kB)\n",
      "Collecting pyasn1-modules>=0.2.1\n",
      "  Downloading pyasn1_modules-0.3.0-py2.py3-none-any.whl (181 kB)\n",
      "     ------------------------------------- 181.3/181.3 kB 10.7 MB/s eta 0:00:00\n",
      "Requirement already satisfied: pywin32>=226 in c:\\miniconda\\envs\\azureml_py310_sdkv2\\lib\\site-packages (from portalocker<3,>=1.6->msal-extensions<2.0.0,>=0.3.0->azure-identity<2.0.0,>=1.5.0->opencensus-ext-azure<2.0.0->azure-ai-ml) (305.1)\n",
      "Collecting pyasn1<0.6.0,>=0.4.6\n",
      "  Downloading pyasn1-0.5.0-py2.py3-none-any.whl (83 kB)\n",
      "     ---------------------------------------- 83.9/83.9 kB 4.9 MB/s eta 0:00:00\n",
      "Installing collected packages: opencensus-context, azure-common, urllib3, tqdm, rpds-py, pyyaml, pyjwt, pydash, pycparser, pyasn1, protobuf, portalocker, oauthlib, marshmallow, isodate, idna, charset-normalizer, cachetools, attrs, strictyaml, rsa, requests, referencing, pyasn1-modules, googleapis-common-protos, cffi, requests-oauthlib, jsonschema-specifications, google-auth, cryptography, azure-core, msrest, jsonschema, google-api-core, azure-storage-file-share, azure-storage-blob, azure-mgmt-core, opencensus, msal, azure-storage-file-datalake, msal-extensions, azure-identity, opencensus-ext-azure, azure-ai-ml\n",
      "Successfully installed attrs-23.1.0 azure-ai-ml-1.9.0 azure-common-1.1.28 azure-core-1.29.3 azure-identity-1.14.0 azure-mgmt-core-1.4.0 azure-storage-blob-12.17.0 azure-storage-file-datalake-12.12.0 azure-storage-file-share-12.13.0 cachetools-5.3.1 cffi-1.15.1 charset-normalizer-3.2.0 cryptography-41.0.3 google-api-core-2.11.1 google-auth-2.22.0 googleapis-common-protos-1.60.0 idna-3.4 isodate-0.6.1 jsonschema-4.19.0 jsonschema-specifications-2023.7.1 marshmallow-3.20.1 msal-1.23.0 msal-extensions-1.0.0 msrest-0.7.1 oauthlib-3.2.2 opencensus-0.11.2 opencensus-context-0.1.3 opencensus-ext-azure-1.1.9 portalocker-2.7.0 protobuf-4.24.2 pyasn1-0.5.0 pyasn1-modules-0.3.0 pycparser-2.21 pydash-5.1.2 pyjwt-2.8.0 pyyaml-6.0.1 referencing-0.30.2 requests-2.31.0 requests-oauthlib-1.3.1 rpds-py-0.10.0 rsa-4.9 strictyaml-1.7.3 tqdm-4.66.1 urllib3-1.26.16\n",
      "Note: you may need to restart the kernel to use updated packages.\n"
     ]
    }
   ],
   "source": [
    "pip install azure-ai-ml"
   ]
  },
  {
   "cell_type": "code",
   "execution_count": 2,
   "metadata": {},
   "outputs": [
    {
     "name": "stdout",
     "output_type": "stream",
     "text": [
      "Requirement already satisfied: azure-identity in c:\\miniconda\\envs\\azureml_py310_sdkv2\\lib\\site-packages (1.14.0)\n",
      "Requirement already satisfied: cryptography>=2.5 in c:\\miniconda\\envs\\azureml_py310_sdkv2\\lib\\site-packages (from azure-identity) (41.0.3)\n",
      "Requirement already satisfied: azure-core<2.0.0,>=1.11.0 in c:\\miniconda\\envs\\azureml_py310_sdkv2\\lib\\site-packages (from azure-identity) (1.29.3)\n",
      "Requirement already satisfied: msal<2.0.0,>=1.20.0 in c:\\miniconda\\envs\\azureml_py310_sdkv2\\lib\\site-packages (from azure-identity) (1.23.0)\n",
      "Requirement already satisfied: msal-extensions<2.0.0,>=0.3.0 in c:\\miniconda\\envs\\azureml_py310_sdkv2\\lib\\site-packages (from azure-identity) (1.0.0)\n",
      "Requirement already satisfied: six>=1.11.0 in c:\\miniconda\\envs\\azureml_py310_sdkv2\\lib\\site-packages (from azure-core<2.0.0,>=1.11.0->azure-identity) (1.16.0)\n",
      "Requirement already satisfied: requests>=2.18.4 in c:\\miniconda\\envs\\azureml_py310_sdkv2\\lib\\site-packages (from azure-core<2.0.0,>=1.11.0->azure-identity) (2.31.0)\n",
      "Requirement already satisfied: typing-extensions>=4.6.0 in c:\\miniconda\\envs\\azureml_py310_sdkv2\\lib\\site-packages (from azure-core<2.0.0,>=1.11.0->azure-identity) (4.7.1)\n",
      "Requirement already satisfied: cffi>=1.12 in c:\\miniconda\\envs\\azureml_py310_sdkv2\\lib\\site-packages (from cryptography>=2.5->azure-identity) (1.15.1)\n",
      "Requirement already satisfied: PyJWT[crypto]<3,>=1.0.0 in c:\\miniconda\\envs\\azureml_py310_sdkv2\\lib\\site-packages (from msal<2.0.0,>=1.20.0->azure-identity) (2.8.0)\n",
      "Requirement already satisfied: portalocker<3,>=1.6 in c:\\miniconda\\envs\\azureml_py310_sdkv2\\lib\\site-packages (from msal-extensions<2.0.0,>=0.3.0->azure-identity) (2.7.0)\n",
      "Requirement already satisfied: pycparser in c:\\miniconda\\envs\\azureml_py310_sdkv2\\lib\\site-packages (from cffi>=1.12->cryptography>=2.5->azure-identity) (2.21)\n",
      "Requirement already satisfied: pywin32>=226 in c:\\miniconda\\envs\\azureml_py310_sdkv2\\lib\\site-packages (from portalocker<3,>=1.6->msal-extensions<2.0.0,>=0.3.0->azure-identity) (305.1)\n",
      "Requirement already satisfied: urllib3<3,>=1.21.1 in c:\\miniconda\\envs\\azureml_py310_sdkv2\\lib\\site-packages (from requests>=2.18.4->azure-core<2.0.0,>=1.11.0->azure-identity) (1.26.16)\n",
      "Requirement already satisfied: charset-normalizer<4,>=2 in c:\\miniconda\\envs\\azureml_py310_sdkv2\\lib\\site-packages (from requests>=2.18.4->azure-core<2.0.0,>=1.11.0->azure-identity) (3.2.0)\n",
      "Requirement already satisfied: idna<4,>=2.5 in c:\\miniconda\\envs\\azureml_py310_sdkv2\\lib\\site-packages (from requests>=2.18.4->azure-core<2.0.0,>=1.11.0->azure-identity) (3.4)\n",
      "Requirement already satisfied: certifi>=2017.4.17 in c:\\miniconda\\envs\\azureml_py310_sdkv2\\lib\\site-packages (from requests>=2.18.4->azure-core<2.0.0,>=1.11.0->azure-identity) (2023.7.22)\n",
      "Note: you may need to restart the kernel to use updated packages.\n"
     ]
    }
   ],
   "source": [
    "pip install azure-identity"
   ]
  },
  {
   "cell_type": "code",
   "execution_count": 6,
   "metadata": {},
   "outputs": [
    {
     "ename": "SyntaxError",
     "evalue": "invalid syntax. Perhaps you forgot a comma? (2527158004.py, line 2)",
     "output_type": "error",
     "traceback": [
      "\u001b[1;36m  Cell \u001b[1;32mIn[6], line 2\u001b[1;36m\u001b[0m\n\u001b[1;33m    pip install python-dotenv\u001b[0m\n\u001b[1;37m        ^\u001b[0m\n\u001b[1;31mSyntaxError\u001b[0m\u001b[1;31m:\u001b[0m invalid syntax. Perhaps you forgot a comma?\n"
     ]
    }
   ],
   "source": [
    "# pip package for dotenv files\n",
    "pip install python-dotenv"
   ]
  },
  {
   "cell_type": "code",
   "execution_count": 12,
   "metadata": {},
   "outputs": [
    {
     "name": "stdout",
     "output_type": "stream",
     "text": [
      "test_varaible_value\n"
     ]
    }
   ],
   "source": [
    "# How to read the .env file in python\n",
    "from dotenv import load_dotenv\n",
    "import os\n",
    "load_dotenv()\n",
    "# read the variable from the .env file\n",
    "print(os.environ['test_variable_name'])\n"
   ]
  },
  {
   "cell_type": "markdown",
   "metadata": {},
   "source": [
    "Autheticating the clinet "
   ]
  },
  {
   "cell_type": "code",
   "execution_count": 3,
   "metadata": {},
   "outputs": [
    {
     "ename": "NameError",
     "evalue": "name 'load_dotenv' is not defined",
     "output_type": "error",
     "traceback": [
      "\u001b[1;31m---------------------------------------------------------------------------\u001b[0m",
      "\u001b[1;31mNameError\u001b[0m                                 Traceback (most recent call last)",
      "Cell \u001b[1;32mIn[3], line 4\u001b[0m\n\u001b[0;32m      2\u001b[0m \u001b[39mfrom\u001b[39;00m \u001b[39mazure\u001b[39;00m\u001b[39m.\u001b[39;00m\u001b[39midentity\u001b[39;00m \u001b[39mimport\u001b[39;00m DefaultAzureCredential\n\u001b[0;32m      3\u001b[0m \u001b[39mimport\u001b[39;00m \u001b[39mos\u001b[39;00m\n\u001b[1;32m----> 4\u001b[0m load_dotenv()\n\u001b[0;32m      6\u001b[0m subscription_id \u001b[39m=\u001b[39m os\u001b[39m.\u001b[39menviron[\u001b[39m'\u001b[39m\u001b[39mAZURE_SUBSCRIPTION_ID\u001b[39m\u001b[39m'\u001b[39m]\n\u001b[0;32m      7\u001b[0m resource_group \u001b[39m=\u001b[39m os\u001b[39m.\u001b[39menviron[\u001b[39m'\u001b[39m\u001b[39mAZURE_RESOURCE_GROUP\u001b[39m\u001b[39m'\u001b[39m]\n",
      "\u001b[1;31mNameError\u001b[0m: name 'load_dotenv' is not defined"
     ]
    }
   ],
   "source": [
    "from azure.ai.ml import MLClient\n",
    "from azure.identity import DefaultAzureCredential\n",
    "import os\n",
    "load_dotenv()\n",
    "\n",
    "subscription_id = os.environ['AZURE_SUBSCRIPTION_ID']\n",
    "resource_group = os.environ['AZURE_RESOURCE_GROUP']\n",
    "workspace = os.environ['AZURE_ML_WORKSPACE']\n",
    "\n",
    "\n",
    "ml_client = MLClient(\n",
    "    DefaultAzureCredential(), subscription_id, resource_group, workspace\n",
    ")"
   ]
  },
  {
   "cell_type": "code",
   "execution_count": 2,
   "metadata": {},
   "outputs": [
    {
     "ename": "NameError",
     "evalue": "name 'ml_client' is not defined",
     "output_type": "error",
     "traceback": [
      "\u001b[1;31m---------------------------------------------------------------------------\u001b[0m",
      "\u001b[1;31mNameError\u001b[0m                                 Traceback (most recent call last)",
      "Cell \u001b[1;32mIn[2], line 1\u001b[0m\n\u001b[1;32m----> 1\u001b[0m ml_client\n",
      "\u001b[1;31mNameError\u001b[0m: name 'ml_client' is not defined"
     ]
    }
   ],
   "source": [
    "ml_client"
   ]
  }
 ],
 "metadata": {
  "kernelspec": {
   "display_name": "azureml_py310_sdkv2",
   "language": "python",
   "name": "python3"
  },
  "language_info": {
   "codemirror_mode": {
    "name": "ipython",
    "version": 3
   },
   "file_extension": ".py",
   "mimetype": "text/x-python",
   "name": "python",
   "nbconvert_exporter": "python",
   "pygments_lexer": "ipython3",
   "version": "3.10.0"
  },
  "orig_nbformat": 4
 },
 "nbformat": 4,
 "nbformat_minor": 2
}
