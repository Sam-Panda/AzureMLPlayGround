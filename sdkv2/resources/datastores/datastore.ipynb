{
 "cells": [
  {
   "cell_type": "markdown",
   "metadata": {},
   "source": [
    "# Create Azure Machine Learning Datastore\n",
    "\n",
    "**Requirements** - In order to benefit from this tutorial, you will need:\n",
    "- A basic understanding of Machine Learning\n",
    "- An Azure account with an active subscription. [Create an account for free](https://azure.microsoft.com/free/?WT.mc_id=A261C142F)\n",
    "- An Azure ML workspace with computer cluster - [Configure workspace](../../jobs/configuration.ipynb) \n",
    "- A python environment\n",
    "- Installed Azure Machine Learning Python SDK v2 - [install instructions](../../README.md) - check the getting started section\n",
    "\n",
    "**Learning Objectives** - By the end of this tutorial, you should be able to:\n",
    "- Create an Azure Machine Learning datastore from Python SDK for\n",
    "  - Azure Blob Storage container\n",
    "  - Azure File share\n",
    "  - Azure Data Lake Storage Gen1\n",
    "  - Azure Data Lake Storage Gen2\n",
    "- Use a datastore in a Command\n",
    "\n",
    "**Motivations** - Azure Machine Learning datastores securely keep the connection information to your data storage, so you don't have to code it in your scripts. This tutorial will introduce you to create datastores for machine learning from different sources.\n",
    "\n",
    "**Note** - The credentials property in these samples are redacted. Please replace the redacted account_key, sas_token, tenant_id, client_id and client_secret appropriately."
   ]
  },
  {
   "cell_type": "markdown",
   "metadata": {},
   "source": [
    "# 1. Connect to Azure Machine Learning Workspace\n",
    "\n",
    "The [workspace](https://docs.microsoft.com/en-us/azure/machine-learning/concept-workspace) is the top-level resource for Azure Machine Learning, providing a centralized place to work with all the artifacts you create when you use Azure Machine Learning. In this section we will connect to the workspace in which the datastore will be created.\n",
    "\n",
    "## 1.1. Import the required libraries"
   ]
  },
  {
   "cell_type": "code",
   "execution_count": 1,
   "metadata": {},
   "outputs": [],
   "source": [
    "# import required libraries\n",
    "from azure.ai.ml import MLClient\n",
    "from azure.identity import DefaultAzureCredential\n",
    "from azure.ai.ml import command, Input\n",
    "from azure.ai.ml.entities import (\n",
    "    AzureBlobDatastore,\n",
    "    AzureFileDatastore,\n",
    "    AzureDataLakeGen1Datastore,\n",
    "    AzureDataLakeGen2Datastore,\n",
    ")\n",
    "from azure.ai.ml.entities._datastore.credentials import (\n",
    "    AccountKeyCredentials,\n",
    "    SasTokenCredentials,\n",
    "    ServicePrincipalCredentials,\n",
    ")\n",
    "from azure.ai.ml.entities import Environment"
   ]
  },
  {
   "cell_type": "markdown",
   "metadata": {},
   "source": [
    "## 1.2. Configure workspace details and get a handle to the workspace\n",
    "\n",
    "To connect to a workspace, we need identifier parameters - a subscription, resource group and workspace name. We will use these details in the `MLClient` from `azure.ai.ml` to get a handle to the required Azure Machine Learning workspace. We use the default [default azure authentication](https://docs.microsoft.com/en-us/python/api/azure-identity/azure.identity.defaultazurecredential?view=azure-python) for this tutorial. Check the [configuration notebook](../../jobs/configuration.ipynb) for more details on how to configure credentials and connect to a workspace."
   ]
  },
  {
   "cell_type": "code",
   "execution_count": 2,
   "metadata": {},
   "outputs": [
    {
     "name": "stderr",
     "output_type": "stream",
     "text": [
      "Warning: Falling back to use azure cli login credentials.\n",
      "If you run your code in unattended mode, i.e., where you can't give a user input, then we recommend to use ServicePrincipalAuthentication or MsiAuthentication.\n",
      "Please refer to aka.ms/aml-notebook-auth for different authentication mechanisms in azureml-sdk.\n"
     ]
    }
   ],
   "source": [
    "from azureml.core import Workspace\n",
    "\n",
    "# get details of the current Azure ML workspace\n",
    "ws = Workspace.from_config()"
   ]
  },
  {
   "cell_type": "code",
   "execution_count": 3,
   "metadata": {},
   "outputs": [],
   "source": [
    "default_azure_credential = DefaultAzureCredential()\n",
    "subscription_id = ws.subscription_id\n",
    "resource_group = ws.resource_group\n",
    "workspace = ws.name\n",
    "\n",
    "# client class to interact with Azure ML services and resources, e.g. workspaces, jobs, models and so on.\n",
    "ml_client = MLClient(\n",
    "    default_azure_credential,\n",
    "    subscription_id,\n",
    "    resource_group,\n",
    "    workspace)\n"
   ]
  },
  {
   "cell_type": "markdown",
   "metadata": {},
   "source": [
    "# 2. Create Datastore\n",
    "Datastores are attached to workspaces and are used to store connection information to  storage services so you can refer to them by name and don't need to remember the connection information and secret used to connect to the storage services.\n",
    "\n",
    "## 2.1 Create a datastore for Azure Blob Storage container\n",
    "The `AzureBlobDatastore` can be used to create datastores for Azure blob containers. The key parameters needed to create this type of datastore are:\n",
    "- `name` - Name of the datastore\n",
    "- `account_name` - Name of the Azure storage account.\n",
    "- `container_name` - Name of the container in the storage account\n",
    "- `protocol` - Protocol to use to connect to the container. `https` and `wasbs` are supported. The default is `https`.\n",
    "- `credentials` - Credential-based authentication credentials for connecting to the Azure storage account. You can provide either an `account key` or a shared access signature (`SAS`) token. Credential secrets are stored in the workspace key vault.\n",
    "- `description` - Description of the datastore.\n",
    "\n",
    "### 2.1.1 Create a datastore with account key\n",
    "In this sample we will use an account key to connect to the storage"
   ]
  },
  {
   "cell_type": "code",
   "execution_count": 6,
   "metadata": {},
   "outputs": [],
   "source": [
    "from dotenv import load_dotenv\n",
    "load_dotenv()\n",
    "\n",
    "stdatastorageazureml_ACCESS_KEY = os.environ[\"stdatastorageazureml_ACCESS_KEY\"]"
   ]
  },
  {
   "cell_type": "code",
   "execution_count": 7,
   "metadata": {},
   "outputs": [
    {
     "data": {
      "text/plain": [
       "AzureBlobDatastore({'type': <DatastoreType.AZURE_BLOB: 'AzureBlob'>, 'name': 'blob_example', 'description': 'Datastore pointing to a blob container.', 'tags': {}, 'properties': {}, 'id': '/subscriptions/89c37dd8-94bb-4870-98e0-1cfb98c0262e/resourceGroups/rg-mlopsv2-sapa02dev/providers/Microsoft.MachineLearningServices/workspaces/mlw-mlopsv2-sapa02dev/datastores/blob_example', 'Resource__source_path': None, 'base_path': 'c:\\\\Users\\\\sapa\\\\OneDrive - Microsoft\\\\FTA_Projects\\\\AzureMLPlayGround\\\\sdkv2\\\\resources\\\\datastores', 'creation_context': None, 'serialize': <msrest.serialization.Serializer object at 0x00000223204EECC8>, 'credentials': <azure.ai.ml.entities._datastore.credentials.AccountKeyCredentials object at 0x000002231DAB40C8>, 'container_name': 'data-container', 'account_name': 'stdatastorageazureml', 'endpoint': 'core.windows.net', 'protocol': 'https'})"
      ]
     },
     "execution_count": 7,
     "metadata": {},
     "output_type": "execute_result"
    }
   ],
   "source": [
    "blob_datastore1 = AzureBlobDatastore(\n",
    "    name=\"blob_example\",\n",
    "    description=\"Datastore pointing to a blob container.\",\n",
    "    account_name=\"stdatastorageazureml\",\n",
    "    container_name=\"data-container\",\n",
    "    credentials=AccountKeyCredentials(\n",
    "        account_key=stdatastorageazureml_ACCESS_KEY\n",
    "    ),\n",
    ")\n",
    "ml_client.create_or_update(blob_datastore1)"
   ]
  },
  {
   "cell_type": "markdown",
   "metadata": {},
   "source": [
    "### 2.1.2 Create a datastore with SAS token\n",
    "In this sample we will use a shared access signature (`SAS`) token to connect to the storage."
   ]
  },
  {
   "cell_type": "code",
   "execution_count": null,
   "metadata": {},
   "outputs": [],
   "source": [
    "# create a SAS based blob datastore\n",
    "blob_sas_datastore = AzureBlobDatastore(\n",
    "    name=\"blob_sas_example\",\n",
    "    description=\"Datastore pointing to a blob container using SAS token.\",\n",
    "    account_name=\"mytestblobstore\",\n",
    "    container_name=\"data-container\",\n",
    "    credentials=SasTokenCredentials(\n",
    "        sas_token=\"?xx=XXXX-XX-XX&xx=xxxx&xxx=xxx&xx=xxxxxxxxxxx&xx=XXXX-XX-XXXXX:XX:XXX&xx=XXXX-XX-XXXXX:XX:XXX&xxx=xxxxx&xxx=XXxXXXxxxxxXXXXXXXxXxxxXXXXXxxXXXXXxXXXXxXXXxXXxXX\"\n",
    "    ),\n",
    ")\n",
    "ml_client.create_or_update(blob_sas_datastore)"
   ]
  },
  {
   "cell_type": "markdown",
   "metadata": {},
   "source": [
    "### 2.1.3 Create a datastore with account key and wasbs protocol\n",
    "In this sample we will use an account key to connect to the storage using wasbs protocol"
   ]
  },
  {
   "cell_type": "code",
   "execution_count": null,
   "metadata": {},
   "outputs": [],
   "source": [
    "# create a datastore pointing to a blob container using wasbs protocol\n",
    "blob_wasb_datastore = AzureBlobDatastore(\n",
    "    name=\"blob_protocol_example\",\n",
    "    description=\"Datastore pointing to a blob container using wasbs protocol.\",\n",
    "    account_name=\"mytestblobstore\",\n",
    "    container_name=\"data-container\",\n",
    "    protocol=\"wasbs\",\n",
    "    credentials=AccountKeyCredentials(\n",
    "        account_key=\"XXXxxxXXXxXXXXxxXXXXXxXXXXXxXxxXxXXXxXXXxXXxxxXXxxXXXxXxXXXxxXxxXXXXxxxxxXXxxxxxxXXXxXXX\"\n",
    "    ),\n",
    ")\n",
    "ml_client.create_or_update(blob_wasb_datastore)"
   ]
  },
  {
   "cell_type": "markdown",
   "metadata": {},
   "source": [
    "### 2.1.4 Create a datastore without adding any credentials\n",
    "In this sample we will create a datastore without storing any credentials. When this datastore is used in a job, the identity used to run the job will also be used to access the datastore."
   ]
  },
  {
   "cell_type": "code",
   "execution_count": null,
   "metadata": {},
   "outputs": [],
   "source": [
    "# create a credential-less datastore pointing to a blob container\n",
    "blob_credless_datastore = AzureBlobDatastore(\n",
    "    name=\"blob_credless_example\",\n",
    "    description=\"Credential-less datastore pointing to a blob container.\",\n",
    "    account_name=\"mytestblobstore\",\n",
    "    container_name=\"data-container\",\n",
    ")\n",
    "ml_client.create_or_update(blob_credless_datastore)"
   ]
  },
  {
   "cell_type": "markdown",
   "metadata": {},
   "source": [
    "## 2.2 Create a datastore for Azure File Share\n",
    "The `AzureFileDatastore` can be used to create datastores for Azure File Share. The key parameters needed to create this type of datastore are:\n",
    "- `name` - Name of the datastore\n",
    "- `account_name` - Name of the Azure storage account.\n",
    "- `file_share_name` - Name of the file share in the storage account\n",
    "- `protocol` - Protocol to use to connect to the file share. Only `https` is supported.\n",
    "- `credentials` - Credential-based authentication credentials for connecting to the Azure storage account. You can provide either an `account key` or a shared access signature (`SAS`) token. Credential secrets are stored in the workspace key vault.\n",
    "- `description` - Description of the datastore.\n",
    "\n",
    "### 2.2.1 Create a datastore with account key\n",
    "In this sample we will use an account key to connect to the storage"
   ]
  },
  {
   "cell_type": "code",
   "execution_count": null,
   "metadata": {},
   "outputs": [],
   "source": [
    "# Datastore pointing to an Azure File Share\n",
    "file_datastore = AzureFileDatastore(\n",
    "    name=\"file_example\",\n",
    "    description=\"Datastore pointing to an Azure File Share.\",\n",
    "    account_name=\"mytestfilestore\",\n",
    "    file_share_name=\"my-share\",\n",
    "    credentials=AccountKeyCredentials(\n",
    "        account_key=\"XXXxxxXXXxXXXXxxXXXXXxXXXXXxXxxXxXXXxXXXxXXxxxXXxxXXXxXxXXXxxXxxXXXXxxxxxXXxxxxxxXXXxXXX\"\n",
    "    ),\n",
    ")\n",
    "ml_client.create_or_update(file_datastore)"
   ]
  },
  {
   "cell_type": "markdown",
   "metadata": {},
   "source": [
    "### 2.2.2 Create a datastore with SAS token\n",
    "In this sample we will use a shared access signature (`SAS`) token to connect to the storage."
   ]
  },
  {
   "cell_type": "code",
   "execution_count": null,
   "metadata": {},
   "outputs": [],
   "source": [
    "# Datastore pointing to an Azure File Share using SAS token\n",
    "file_sas_datastore = AzureFileDatastore(\n",
    "    name=\"file_sas_example\",\n",
    "    description=\"Datastore pointing to an Azure File Share using SAS token.\",\n",
    "    account_name=\"mytestfilestore\",\n",
    "    file_share_name=\"my-share\",\n",
    "    credentials=SasTokenCredentials(\n",
    "        sas_token=\"?xx=XXXX-XX-XX&xx=xxxx&xxx=xxx&xx=xxxxxxxxxxx&xx=XXXX-XX-XXXXX:XX:XXX&xx=XXXX-XX-XXXXX:XX:XXX&xxx=xxxxx&xxx=XXxXXXxxxxxXXXXXXXxXxxxXXXXXxxXXXXXxXXXXxXXXxXXxXX\"\n",
    "    ),\n",
    ")\n",
    "ml_client.create_or_update(file_sas_datastore)"
   ]
  },
  {
   "cell_type": "markdown",
   "metadata": {},
   "source": [
    "## 2.3 Create a datastore for Azure Data Lake Storage Gen1\n",
    "The `AzureDataLakeGen1Datastore` class can be used to create datastores for Azure Data Lake Storage Gen1. The key parameters needed to create this type of datastore are:\n",
    "- `name` - Name of the datastore\n",
    "- `store_name` - Name of the Azure Data Lake Storage Gen1 account.\n",
    "- `credentials` - Service principal credentials for connecting to the Azure storage account. Credential secrets are stored in the workspace key vault.\n",
    "  - `tenant_id` - \tThe tenant ID of the service principal\n",
    "  - `client_id` - The client ID of the service principal\n",
    "  -  `client_secret` - The client secret of the service principal.\n",
    "- `description` - Description of the datastore."
   ]
  },
  {
   "cell_type": "code",
   "execution_count": null,
   "metadata": {},
   "outputs": [],
   "source": [
    "adlsg1_datastore = AzureDataLakeGen1Datastore(\n",
    "    name=\"adls_gen1_example\",\n",
    "    description=\"Datastore pointing to an Azure Data Lake Storage Gen1.\",\n",
    "    store_name=\"mytestdatalakegen1\",\n",
    "    credentials=ServicePrincipalCredentials(\n",
    "        tenant_id=\"00000000-0000-0000-0000-000000000000\",\n",
    "        client_id=\"00000000-0000-0000-0000-000000000000\",\n",
    "        client_secret=\"XXXXXXXXXXXXXXXXXXXXXXXXXXXXXXXXXX\",\n",
    "    ),\n",
    ")\n",
    "ml_client.create_or_update(adlsg1_datastore)"
   ]
  },
  {
   "cell_type": "markdown",
   "metadata": {},
   "source": [
    "## 2.4 Create a datastore for Azure Data Lake Storage Gen2\n",
    "The `AzureDataLakeGen2Datastore` class can be used to create datastores for Azure Data Lake Storage Gen2. The key parameters needed to create this type of datastore are:\n",
    "- `name` - Name of the datastore\n",
    "- `account_name` - Name of the Azure Data Lake Gen2 Storage account.\n",
    "- `filesystem` - Name of the file system. The parent directory that contains the files and folders. This is equivalent to a container in Azure Blob storage.\n",
    "- `protocol` - Protocol to use to connect to the file system. `https` and `abfs` are supported. The default is `https`.\n",
    "- `credentials` - Service principal credentials for connecting to the Azure storage account. Credential secrets are stored in the workspace key vault.\n",
    "  - `tenant_id` - \tThe tenant ID of the service principal\n",
    "  - `client_id` - The client ID of the service principal\n",
    "  -  `client_secret` - The client secret of the service principal.\n",
    "- `description` - Description of the datastore."
   ]
  },
  {
   "cell_type": "code",
   "execution_count": null,
   "metadata": {},
   "outputs": [],
   "source": [
    "adlsg2_datastore = AzureDataLakeGen2Datastore(\n",
    "    name=\"adls_gen2_example\",\n",
    "    description=\"Datastore pointing to an Azure Data Lake Storage Gen2.\",\n",
    "    account_name=\"mytestdatalakegen2\",\n",
    "    filesystem=\"my-gen2-container\",\n",
    "    credentials=ServicePrincipalCredentials(\n",
    "        tenant_id=\"00000000-0000-0000-0000-000000000000\",\n",
    "        client_id=\"00000000-0000-0000-0000-000000000000\",\n",
    "        client_secret=\"XXXXXXXXXXXXXXXXXXXXXXXXXXXXXXXXXX\",\n",
    "    ),\n",
    ")\n",
    "ml_client.create_or_update(adlsg2_datastore)"
   ]
  },
  {
   "cell_type": "markdown",
   "metadata": {},
   "source": [
    "# 3. Using the datastore in a Job\n",
    "A Datastore can be used in a job like a `Command` or a `Pipeline`. In the below snippet, we will list the contents of a `datastore` in a `Command`. We will use the default datastore `workspaceblobstore` which is created with any Azure Machine Learning Workspace.\n",
    "\n",
    "The datastore can be used as a folder in the format `azureml://datastores/<datastore-name>/paths/<optional-path>`"
   ]
  },
  {
   "cell_type": "code",
   "execution_count": null,
   "metadata": {},
   "outputs": [],
   "source": [
    "explore_datastore = command(\n",
    "    command=\"ls ${{inputs.datastore}}\",\n",
    "    inputs={\n",
    "        \"datastore\": Input(folder=\"azureml://datastores/workspaceblobstore/paths/\")\n",
    "    },\n",
    "    environment=Environment(image=\"python:latest\"),\n",
    "    compute=\"cpu-cluster\",\n",
    "    display_name=\"using-datastore\",\n",
    ")\n",
    "\n",
    "# submit the command\n",
    "returned_job = ml_client.create_or_update(explore_datastore)\n",
    "# get a URL for the status of the job\n",
    "returned_job.services[\"Studio\"].endpoint"
   ]
  }
 ],
 "metadata": {
  "description": {
   "description": "Create datastores and use in a Command"
  },
  "interpreter": {
   "hash": "14912a70616e81786234b513d0b13beeb47448a3dace3b7e478aaf9e64d3a100"
  },
  "kernel_info": {
   "name": "python38-azureml"
  },
  "kernelspec": {
   "display_name": "Python 3.7.9 ('mlopsv2')",
   "language": "python",
   "name": "python3"
  },
  "language_info": {
   "codemirror_mode": {
    "name": "ipython",
    "version": 3
   },
   "file_extension": ".py",
   "mimetype": "text/x-python",
   "name": "python",
   "nbconvert_exporter": "python",
   "pygments_lexer": "ipython3",
   "version": "3.7.9"
  },
  "nteract": {
   "version": "nteract-front-end@1.0.0"
  },
  "orig_nbformat": 4
 },
 "nbformat": 4,
 "nbformat_minor": 2
}
