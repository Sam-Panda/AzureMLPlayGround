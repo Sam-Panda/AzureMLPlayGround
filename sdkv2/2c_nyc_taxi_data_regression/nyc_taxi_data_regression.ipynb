{
 "cells": [
  {
   "cell_type": "markdown",
   "metadata": {},
   "source": [
    "# NYC taxi data regression\n",
    "\n",
    "**Requirements** - In order to benefit from this tutorial, you will need:\n",
    "- A basic understanding of Machine Learning\n",
    "- An Azure account with an active subscription - [Create an account for free](https://azure.microsoft.com/free/?WT.mc_id=A261C142F)\n",
    "- An Azure ML workspace with computer cluster - [Configure workspace](../../configuration.ipynb)\n",
    "- A python environment\n",
    "- Installed Azure Machine Learning Python SDK v2 - [install instructions](../../../README.md) - check the getting started section\n",
    "\n",
    "**Learning Objectives** - By the end of this tutorial, you should be able to:\n",
    "- Connect to your AML workspace from the Python SDK\n",
    "- Define different `CommandComponent` using YAML\n",
    "- Create `Pipeline` load these components from YAML\n",
    "\n",
    "**Motivations** - This notebook explains how to load component via SDK then use these components to build pipeline. We use NYC dataset, build pipeline with five steps, prep data, transform data, train model, predict results and evaluate model performance."
   ]
  },
  {
   "cell_type": "markdown",
   "metadata": {},
   "source": [
    "# 1. Connect to Azure Machine Learning Workspace\n",
    "\n",
    "The [workspace](https://docs.microsoft.com/en-us/azure/machine-learning/concept-workspace) is the top-level resource for Azure Machine Learning, providing a centralized place to work with all the artifacts you create when you use Azure Machine Learning. In this section we will connect to the workspace in which the job will be run.\n",
    "\n",
    "## 1.1 Import the required libraries"
   ]
  },
  {
   "cell_type": "code",
   "execution_count": 12,
   "metadata": {},
   "outputs": [],
   "source": [
    "# import required libraries\n",
    "from azure.identity import DefaultAzureCredential, InteractiveBrowserCredential\n",
    "\n",
    "from azure.ai.ml import MLClient, Input, Output\n",
    "from azure.ai.ml.dsl import pipeline\n",
    "from azure.ai.ml import load_component"
   ]
  },
  {
   "cell_type": "markdown",
   "metadata": {},
   "source": [
    "## 1.2 Configure credential\n",
    "\n",
    "We are using `DefaultAzureCredential` to get access to workspace. \n",
    "`DefaultAzureCredential` should be capable of handling most Azure SDK authentication scenarios. \n",
    "\n",
    "Reference for more available credentials if it does not work for you: [configure credential example](../../configuration.ipynb), [azure-identity reference doc](https://docs.microsoft.com/en-us/python/api/azure-identity/azure.identity?view=azure-python)."
   ]
  },
  {
   "cell_type": "code",
   "execution_count": 2,
   "metadata": {},
   "outputs": [],
   "source": [
    "try:\n",
    "    credential = DefaultAzureCredential()\n",
    "    # Check if given credential can get token successfully.\n",
    "    credential.get_token(\"https://management.azure.com/.default\")\n",
    "except Exception as ex:\n",
    "    # Fall back to InteractiveBrowserCredential in case DefaultAzureCredential not work\n",
    "    credential = InteractiveBrowserCredential()"
   ]
  },
  {
   "cell_type": "markdown",
   "metadata": {},
   "source": [
    "## 1.3 Get a handle to the workspace\n",
    "\n",
    "We use config file to connect to a workspace. The Azure ML workspace should be configured with computer cluster. [Check this notebook for configure a workspace](../../configuration.ipynb)"
   ]
  },
  {
   "cell_type": "code",
   "execution_count": 3,
   "metadata": {},
   "outputs": [
    {
     "name": "stderr",
     "output_type": "stream",
     "text": [
      "Found the config file in: c:\\Users\\sapa\\OneDrive - Microsoft\\FTA_Projects\\AzureMLPlayGround\\config.json\n"
     ]
    },
    {
     "name": "stdout",
     "output_type": "stream",
     "text": [
      "AmlCompute({'type': 'amlcompute', 'created_on': None, 'provisioning_state': 'Succeeded', 'provisioning_errors': None, 'name': 'cpu-cluster', 'description': None, 'tags': {}, 'properties': {}, 'id': '/subscriptions/89c37dd8-94bb-4870-98e0-1cfb98c0262e/resourceGroups/rg-mlopsv2-sapa02dev/providers/Microsoft.MachineLearningServices/workspaces/mlw-mlopsv2-sapa02dev/computes/cpu-cluster', 'Resource__source_path': None, 'base_path': 'c:\\\\Users\\\\sapa\\\\OneDrive - Microsoft\\\\FTA_Projects\\\\AzureMLPlayGround\\\\sdkv2\\\\2c_nyc_taxi_data_regression', 'creation_context': None, 'serialize': <msrest.serialization.Serializer object at 0x000001C614744DC8>, 'resource_id': None, 'location': 'westus', 'size': 'STANDARD_DS3_V2', 'min_instances': 0, 'max_instances': 4, 'idle_time_before_scale_down': 120.0, 'identity': None, 'ssh_public_access_enabled': True, 'ssh_settings': None, 'network_settings': None, 'tier': 'dedicated'})\n"
     ]
    }
   ],
   "source": [
    "# Get a handle to workspace\n",
    "ml_client = MLClient.from_config(credential=credential)\n",
    "\n",
    "# Retrieve an already attached Azure Machine Learning Compute.\n",
    "cluster_name = \"cpu-cluster\"\n",
    "print(ml_client.compute.get(cluster_name))"
   ]
  },
  {
   "cell_type": "markdown",
   "metadata": {},
   "source": [
    "# 2. Build pipeline"
   ]
  },
  {
   "cell_type": "code",
   "execution_count": 31,
   "metadata": {},
   "outputs": [],
   "source": [
    "parent_dir = \"\"\n",
    "\n",
    "# 1. Load components\n",
    "prepare_data = load_component(path=parent_dir + \"./prep.yml\")\n",
    "transform_data = load_component(path=parent_dir + \"./transform.yml\")\n",
    "train_model = load_component(path=parent_dir + \"./train.yml\")\n",
    "predict_result = load_component(path=parent_dir + \"./predict.yml\")\n",
    "score_data = load_component(path=parent_dir + \"./score.yml\")\n",
    "\n",
    "# 2. Construct pipeline\n",
    "@pipeline()\n",
    "def nyc_taxi_data_regression(pipeline_job_input):\n",
    "    \"\"\"NYC taxi data regression example.\"\"\"\n",
    "    prepare_sample_data = prepare_data(raw_data=pipeline_job_input)\n",
    "    transform_sample_data = transform_data(\n",
    "        clean_data=prepare_sample_data.outputs.prep_data\n",
    "    )\n",
    "    train_with_sample_data = train_model(\n",
    "        training_data=transform_sample_data.outputs.transformed_data\n",
    "    )\n",
    "    predict_with_sample_data = predict_result(\n",
    "        model_input=train_with_sample_data.outputs.model_output,\n",
    "        test_data=train_with_sample_data.outputs.test_data,\n",
    "    )\n",
    "    score_with_sample_data = score_data(\n",
    "        predictions=predict_with_sample_data.outputs.predictions,\n",
    "        model=train_with_sample_data.outputs.model_output,\n",
    "    )\n",
    "    return {\n",
    "        \"pipeline_job_prepped_data\": prepare_sample_data.outputs.prep_data\n",
    "        ,\n",
    "        \"pipeline_job_transformed_data\": transform_sample_data.outputs.transformed_data,\n",
    "        \"pipeline_job_trained_model\": train_with_sample_data.outputs.model_output,\n",
    "        \"pipeline_job_test_data\": train_with_sample_data.outputs.test_data,\n",
    "        \"pipeline_job_predictions\": predict_with_sample_data.outputs.predictions,\n",
    "        \"pipeline_job_score_report\": score_with_sample_data.outputs.score_report,\n",
    "    }\n",
    "\n",
    "\n",
    "pipeline_job = nyc_taxi_data_regression(\n",
    "    Input(type=\"uri_folder\", path=\"azureml://datastores/blob_example/paths/nyctaxiexample\")\n",
    "    \n",
    ")\n",
    "# demo how to change pipeline output settings\n",
    "# pipeline_job.outputs.pipeline_job_prepped_data.mode = \"rw_mount\"\n",
    "pipeline_job.outputs.pipeline_job_prepped_data = Output(type=\"uri_folder\", path=\"azureml://datastores/blob_example/paths/nyctaxiexample/output1\")\n",
    "# pipeline_job.outputs.pipeline_job_prepped_data.type = \"uri_folder\"\n",
    "\n",
    "\n",
    "\n",
    "# set pipeline level compute\n",
    "pipeline_job.settings.default_compute = \"cpu-cluster\"\n",
    "# set pipeline level datastore\n",
    "pipeline_job.settings.default_datastore = \"workspaceblobstore\""
   ]
  },
  {
   "cell_type": "markdown",
   "metadata": {},
   "source": [
    "## 3. Submit pipeline job"
   ]
  },
  {
   "cell_type": "code",
   "execution_count": 32,
   "metadata": {},
   "outputs": [
    {
     "data": {
      "text/html": [
       "<table style=\"width:100%\"><tr><th>Experiment</th><th>Name</th><th>Type</th><th>Status</th><th>Details Page</th></tr><tr><td>pipeline_samples</td><td>jolly_pea_8yshgvxg0m</td><td>pipeline</td><td>Preparing</td><td><a href=\"https://ml.azure.com/runs/jolly_pea_8yshgvxg0m?wsid=/subscriptions/89c37dd8-94bb-4870-98e0-1cfb98c0262e/resourcegroups/rg-mlopsv2-sapa02dev/workspaces/mlw-mlopsv2-sapa02dev&amp;tid=72f988bf-86f1-41af-91ab-2d7cd011db47\" target=\"_blank\" rel=\"noopener\">Link to Azure Machine Learning studio</a></td></tr></table>"
      ],
      "text/plain": [
       "PipelineJob({'inputs': {'pipeline_job_input': <azure.ai.ml.entities._job.pipeline._io.PipelineInput object at 0x000001C615CE5A48>}, 'outputs': {'pipeline_job_prepped_data': <azure.ai.ml.entities._job.pipeline._io.PipelineOutput object at 0x000001C615CE57C8>}, 'component': PipelineComponent({'auto_increment_version': False, 'source': 'REMOTE.WORKSPACE.JOB', 'is_anonymous': True, 'name': 'azureml_anonymous', 'description': 'NYC taxi data regression example.', 'tags': {}, 'properties': {}, 'id': None, 'Resource__source_path': None, 'base_path': None, 'creation_context': None, 'serialize': <msrest.serialization.Serializer object at 0x000001C6150842C8>, 'version': '1', 'latest_version': None, 'schema': None, 'type': 'pipeline', 'display_name': 'nyc_taxi_data_regression', 'is_deterministic': True, 'inputs': {'pipeline_job_input': {'type': 'unknown'}}, 'outputs': {'pipeline_job_prepped_data': {'type': 'unknown'}}, 'yaml_str': None, 'other_parameter': {}, 'func': <function [component] nyc_taxi_data_regression at 0x000001C615E7D5E8>, 'jobs': {'prepare_sample_data': Command({'parameters': {}, 'init': False, 'type': 'command', 'status': None, 'log_files': None, 'name': 'prepare_sample_data', 'description': None, 'tags': {}, 'properties': {}, 'id': None, 'Resource__source_path': None, 'base_path': None, 'creation_context': None, 'serialize': <msrest.serialization.Serializer object at 0x000001C61495DE88>, 'allowed_keys': {}, 'key_restriction': False, 'logger': <Logger attr_dict (WARNING)>, 'display_name': None, 'experiment_name': None, 'compute': None, 'services': None, 'job_inputs': {'raw_data': '${{parent.inputs.pipeline_job_input}}'}, 'job_outputs': {'prep_data': '${{parent.outputs.pipeline_job_prepped_data}}'}, 'inputs': {'raw_data': <azure.ai.ml.entities._job.pipeline._io.PipelineInputBase object at 0x000001C61312FCC8>}, 'outputs': {'prep_data': <azure.ai.ml.entities._job.pipeline._io.PipelineOutputBase object at 0x000001C614E51308>}, 'component': 'azureml_anonymous:ee43ab04-d75f-4595-849b-46b2a5efca7f', 'kwargs': {}, 'instance_id': '3e4d2bfc-4761-41cd-a53e-2dfbb1a61ac7', 'limits': None, 'identity': None, 'distribution': None, 'environment_variables': {}, 'environment': None, 'resources': None, 'swept': False})}, 'job_types': {'command': 1}, 'job_sources': {'REMOTE.WORKSPACE.COMPONENT': 1}}), 'type': 'pipeline', 'status': 'Preparing', 'log_files': None, 'name': 'jolly_pea_8yshgvxg0m', 'description': 'NYC taxi data regression example.', 'tags': {}, 'properties': {'mlflow.source.git.repoURL': 'https://github.com/Sam-Panda/AzureMLPlayGround.git', 'mlflow.source.git.branch': 'main', 'mlflow.source.git.commit': '4037e09b9711d033713aae6349b6ef329d1c98bc', 'azureml.git.dirty': 'True', 'azureml.DevPlatv2': 'true', 'azureml.runsource': 'azureml.PipelineRun', 'runSource': 'MFE', 'runType': 'HTTP', 'azureml.parameters': '{}', 'azureml.continue_on_step_failure': 'False', 'azureml.continue_on_failed_optional_input': 'True', 'azureml.defaultComputeName': 'cpu-cluster', 'azureml.defaultDataStoreName': 'workspaceblobstore', 'azureml.pipelineComponent': 'pipelinerun'}, 'id': '/subscriptions/89c37dd8-94bb-4870-98e0-1cfb98c0262e/resourceGroups/rg-mlopsv2-sapa02dev/providers/Microsoft.MachineLearningServices/workspaces/mlw-mlopsv2-sapa02dev/jobs/jolly_pea_8yshgvxg0m', 'Resource__source_path': None, 'base_path': 'c:\\\\Users\\\\sapa\\\\OneDrive - Microsoft\\\\FTA_Projects\\\\AzureMLPlayGround\\\\sdkv2\\\\2c_nyc_taxi_data_regression', 'creation_context': <azure.ai.ml._restclient.v2022_02_01_preview.models._models_py3.SystemData object at 0x000001C615CE5CC8>, 'serialize': <msrest.serialization.Serializer object at 0x000001C615CE5608>, 'display_name': 'nyc_taxi_data_regression', 'experiment_name': 'pipeline_samples', 'compute': None, 'services': {'Tracking': <azure.ai.ml._restclient.v2022_02_01_preview.models._models_py3.JobService object at 0x000001C615CE5508>, 'Studio': <azure.ai.ml._restclient.v2022_02_01_preview.models._models_py3.JobService object at 0x000001C615CE5D88>}, 'settings': <azure.ai.ml.entities._job.pipeline.pipeline_job_settings.PipelineJobSettings object at 0x000001C61607B508>, 'identity': None, 'default_code': None, 'default_environment': None})"
      ]
     },
     "execution_count": 32,
     "metadata": {},
     "output_type": "execute_result"
    }
   ],
   "source": [
    "# submit job to workspace\n",
    "pipeline_job = ml_client.jobs.create_or_update(\n",
    "    pipeline_job, experiment_name=\"pipeline_samples\"\n",
    ")\n",
    "pipeline_job"
   ]
  },
  {
   "cell_type": "code",
   "execution_count": 10,
   "metadata": {},
   "outputs": [
    {
     "name": "stdout",
     "output_type": "stream",
     "text": [
      "RunId: blue_loquat_g4f1zzdbyj\n",
      "Web View: https://ml.azure.com/runs/blue_loquat_g4f1zzdbyj?wsid=/subscriptions/89c37dd8-94bb-4870-98e0-1cfb98c0262e/resourcegroups/rg-mlopsv2-sapa02dev/workspaces/mlw-mlopsv2-sapa02dev\n",
      "\n",
      "Streaming logs/azureml/executionlogs.txt\n",
      "========================================\n",
      "\n",
      "[2022-09-20 20:33:55Z] Submitting 1 runs, first five are: d3fe60e7:7fdc19eb-1437-404d-8c50-d6f4aa7e7783\n",
      "[2022-09-20 20:36:11Z] Completing processing run id 7fdc19eb-1437-404d-8c50-d6f4aa7e7783.\n",
      "[2022-09-20 20:36:11Z] Submitting 1 runs, first five are: 0e9d58ca:f4edf9db-ea3d-4a41-a47f-697e854be6e5\n",
      "[2022-09-20 20:36:31Z] Completing processing run id f4edf9db-ea3d-4a41-a47f-697e854be6e5.\n",
      "[2022-09-20 20:36:31Z] Submitting 1 runs, first five are: f9bd7074:5573bf30-7525-44dc-a5fe-b3cad1df250c\n",
      "[2022-09-20 20:37:01Z] Completing processing run id 5573bf30-7525-44dc-a5fe-b3cad1df250c.\n",
      "[2022-09-20 20:37:02Z] Submitting 1 runs, first five are: 733e2cb9:c25397f6-1885-4ae5-b28c-46b838733f61\n",
      "[2022-09-20 20:37:26Z] Completing processing run id c25397f6-1885-4ae5-b28c-46b838733f61.\n",
      "[2022-09-20 20:37:26Z] Submitting 1 runs, first five are: 3d3d6ae1:bdc31efa-c7aa-4d19-ae4e-26578db41986\n",
      "[2022-09-20 20:37:48Z] Completing processing run id bdc31efa-c7aa-4d19-ae4e-26578db41986.\n",
      "\n",
      "Execution Summary\n",
      "=================\n",
      "RunId: blue_loquat_g4f1zzdbyj\n",
      "Web View: https://ml.azure.com/runs/blue_loquat_g4f1zzdbyj?wsid=/subscriptions/89c37dd8-94bb-4870-98e0-1cfb98c0262e/resourcegroups/rg-mlopsv2-sapa02dev/workspaces/mlw-mlopsv2-sapa02dev\n",
      "\n"
     ]
    }
   ],
   "source": [
    "# Wait until the job completes\n",
    "ml_client.jobs.stream(pipeline_job.name)"
   ]
  },
  {
   "cell_type": "markdown",
   "metadata": {},
   "source": [
    "# Next Steps\n",
    "You can see further examples of running a pipeline job [here](../)"
   ]
  }
 ],
 "metadata": {
  "description": {
   "description": "Build pipeline with components for 5 jobs - prep data, transform data, train model, predict results and evaluate model performance"
  },
  "interpreter": {
   "hash": "14912a70616e81786234b513d0b13beeb47448a3dace3b7e478aaf9e64d3a100"
  },
  "kernelspec": {
   "display_name": "Python 3.7.9 ('mlopsv2')",
   "language": "python",
   "name": "python3"
  },
  "language_info": {
   "codemirror_mode": {
    "name": "ipython",
    "version": 3
   },
   "file_extension": ".py",
   "mimetype": "text/x-python",
   "name": "python",
   "nbconvert_exporter": "python",
   "pygments_lexer": "ipython3",
   "version": "3.7.9"
  }
 },
 "nbformat": 4,
 "nbformat_minor": 2
}
