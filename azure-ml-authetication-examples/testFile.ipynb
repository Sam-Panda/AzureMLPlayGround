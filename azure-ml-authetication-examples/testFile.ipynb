{
 "cells": [
  {
   "cell_type": "markdown",
   "metadata": {},
   "source": [
    "# Get the required configuration values from the .env file"
   ]
  },
  {
   "cell_type": "markdown",
   "metadata": {},
   "source": [
    "## USING the Service Principal"
   ]
  },
  {
   "cell_type": "code",
   "execution_count": 13,
   "metadata": {},
   "outputs": [
    {
     "data": {
      "text/plain": [
       "True"
      ]
     },
     "execution_count": 13,
     "metadata": {},
     "output_type": "execute_result"
    }
   ],
   "source": [
    "from dotenv import load_dotenv\n",
    "load_dotenv()"
   ]
  },
  {
   "cell_type": "code",
   "execution_count": 14,
   "metadata": {},
   "outputs": [],
   "source": [
    "# %pip install python-dotenv"
   ]
  },
  {
   "cell_type": "code",
   "execution_count": 15,
   "metadata": {},
   "outputs": [],
   "source": [
    "import os\n",
    "clinet_id = os.environ[\"CLIENT_ID\"]\n",
    "clinet_secret = os.environ[\"CLIENT_SECRET\"]\n",
    "tenant_id = os.environ[\"TENANT_ID\"]\n",
    "subscription_id = os.environ[\"SUBSCRIPTION_ID\"]\n",
    "workspace_name = os.environ[\"AZUREML_WORKSPACE_NAME\"]\n",
    "resource_group_name = os.environ[\"RESOURCE_GROUP\"]"
   ]
  },
  {
   "cell_type": "code",
   "execution_count": 16,
   "metadata": {},
   "outputs": [
    {
     "data": {
      "text/plain": [
       "{'id': '/subscriptions/89c37dd8-94bb-4870-98e0-1cfb98c0262e/resourceGroups/SecuringAMLSDemo/providers/Microsoft.MachineLearningServices/workspaces/secureamlsdemo',\n",
       " 'name': 'secureamlsdemo',\n",
       " 'identity': {'principal_id': 'f671b7f6-0500-4bb7-a3f8-67b058135236',\n",
       "  'tenant_id': '72f988bf-86f1-41af-91ab-2d7cd011db47',\n",
       "  'type': 'SystemAssigned'},\n",
       " 'location': 'westus',\n",
       " 'type': 'Microsoft.MachineLearningServices/workspaces',\n",
       " 'tags': {},\n",
       " 'sku': 'Basic',\n",
       " 'workspaceid': 'd6e2c17a-4d2d-42ac-b449-3920810b2775',\n",
       " 'sdkTelemetryAppInsightsKey': '23040a33-1c3e-4782-a462-da85bf9238bb',\n",
       " 'description': '',\n",
       " 'friendlyName': 'secureamlsdemo',\n",
       " 'creationTime': '2022-02-09T10:01:23.5335279+00:00',\n",
       " 'containerRegistry': '/subscriptions/89c37dd8-94bb-4870-98e0-1cfb98c0262e/resourcegroups/securingamlsdemo/providers/microsoft.containerregistry/registries/d6e2c17a4d2d42acb4493920810b2775',\n",
       " 'keyVault': '/subscriptions/89c37dd8-94bb-4870-98e0-1cfb98c0262e/resourcegroups/securingamlsdemo/providers/microsoft.keyvault/vaults/kv5qtd45ryus6lq',\n",
       " 'applicationInsights': '/subscriptions/89c37dd8-94bb-4870-98e0-1cfb98c0262e/resourcegroups/securingamlsdemo/providers/microsoft.insights/components/ai5qtd45ryus6lq',\n",
       " 'storageAccount': '/subscriptions/89c37dd8-94bb-4870-98e0-1cfb98c0262e/resourcegroups/securingamlsdemo/providers/microsoft.storage/storageaccounts/sa5qtd45ryus6lq',\n",
       " 'hbiWorkspace': False,\n",
       " 'allowPublicAccessWhenBehindVnet': False,\n",
       " 'provisioningState': 'Succeeded',\n",
       " 'imageBuildCompute': 'aml-cluster',\n",
       " 'discoveryUrl': 'https://d6e2c17a-4d2d-42ac-b449-3920810b2775.workspace.westus.api.azureml.ms/discovery/workspaces/d6e2c17a-4d2d-42ac-b449-3920810b2775',\n",
       " 'privateEndpointConnections': [{'id': '/subscriptions/89c37dd8-94bb-4870-98e0-1cfb98c0262e/resourceGroups/SecuringAMLSDemo/providers/Microsoft.MachineLearningServices/workspaces/secureamlsdemo/privateEndpointConnections/secureamlsdemo.b9c52d9b-083b-4082-946f-56934fa4d27b',\n",
       "   'properties': {'provisioning_state': 'Succeeded',\n",
       "    'private_endpoint': {'id': '/subscriptions/89c37dd8-94bb-4870-98e0-1cfb98c0262e/resourceGroups/SecuringAMLSDemo/providers/Microsoft.Network/privateEndpoints/secureamlsdemo-PrivateEndpoint'},\n",
       "    'privatelink_service_connection_state': {'status': 'Approved',\n",
       "     'description': 'Auto-Approved',\n",
       "     'actionsRequired': 'None'}}},\n",
       "  {'id': '/subscriptions/89c37dd8-94bb-4870-98e0-1cfb98c0262e/resourceGroups/SecuringAMLSDemo/providers/Microsoft.MachineLearningServices/workspaces/secureamlsdemo/privateEndpointConnections/secureamlsdemo.cbefb082-a93d-4848-8b85-cfdb083ca2e6',\n",
       "   'properties': {'provisioning_state': 'Succeeded',\n",
       "    'private_endpoint': {'id': '/subscriptions/3886a5b3-a233-4c11-b89f-18c980646d8e/resourceGroups/vnet-3886a5b3-westus-180-rg/providers/Microsoft.Network/privateEndpoints/securingadf.MPE_AMLS_4m_ADF'},\n",
       "    'privatelink_service_connection_state': {'status': 'Approved',\n",
       "     'description': 'Requested by DataFactory:securingadf, Name:MPE_AMLS_4m_ADF',\n",
       "     'actionsRequired': 'None'}}}],\n",
       " 'notebookInfo': {'fqdn': 'ml-secureamlsdemo-westus-d6e2c17a-4d2d-42ac-b449-3920810b2775.westus.notebooks.azure.net',\n",
       "  'resource_id': 'ea70337b898441fdad23ceac223bf123'}}"
      ]
     },
     "execution_count": 16,
     "metadata": {},
     "output_type": "execute_result"
    }
   ],
   "source": [
    "from azureml.core.authentication import ServicePrincipalAuthentication\n",
    "\n",
    "sp = ServicePrincipalAuthentication(tenant_id=tenant_id, # tenantID\n",
    "                                    service_principal_id=clinet_id, # clientId\n",
    "                                    service_principal_password=clinet_secret) # clientSecret\n",
    "\n",
    "from azureml.core import Workspace\n",
    "\n",
    "ws = Workspace.get(name=workspace_name,\n",
    "                   auth=sp,\n",
    "                   subscription_id=subscription_id,\n",
    "                   resource_group=resource_group_name)\n",
    "ws.get_details()"
   ]
  },
  {
   "cell_type": "markdown",
   "metadata": {},
   "source": [
    "## Using the Manage Identity"
   ]
  },
  {
   "cell_type": "code",
   "execution_count": null,
   "metadata": {},
   "outputs": [],
   "source": [
    "# from azureml.core.authentication import MsiAuthentication\n",
    "# from azureml.core import Workspace\n",
    "\n",
    "# msi_auth = MsiAuthentication()\n",
    "\n",
    "# ws = Workspace(subscription_id=subscription_id,\n",
    "#                 resource_group=resource_group_name,\n",
    "#                 workspace_name=workspace_name,\n",
    "#                 auth=msi_auth\n",
    "#                 )\n",
    "# print(ws.get_details())"
   ]
  },
  {
   "cell_type": "code",
   "execution_count": 17,
   "metadata": {},
   "outputs": [
    {
     "data": {
      "text/plain": [
       "{'test-run': Experiment(Name: test-run,\n",
       " Workspace: secureamlsdemo),\n",
       " 'mslearn-train-diabetes': Experiment(Name: mslearn-train-diabetes,\n",
       " Workspace: secureamlsdemo),\n",
       " 'mslearn-diabetes-pipeline': Experiment(Name: mslearn-diabetes-pipeline,\n",
       " Workspace: secureamlsdemo),\n",
       " 'mslearn-train-diabetes-march': Experiment(Name: mslearn-train-diabetes-march,\n",
       " Workspace: secureamlsdemo),\n",
       " 'mslearn-diabetes-pipeline-try1': Experiment(Name: mslearn-diabetes-pipeline-try1,\n",
       " Workspace: secureamlsdemo),\n",
       " 'mslearn-diabetes-pipeline-try2': Experiment(Name: mslearn-diabetes-pipeline-try2,\n",
       " Workspace: secureamlsdemo),\n",
       " 'mslearn-diabetes-pipeline-try3': Experiment(Name: mslearn-diabetes-pipeline-try3,\n",
       " Workspace: secureamlsdemo),\n",
       " 'prepare_image': Experiment(Name: prepare_image,\n",
       " Workspace: secureamlsdemo),\n",
       " 'mslearn-diabetes-pipeline-try4': Experiment(Name: mslearn-diabetes-pipeline-try4,\n",
       " Workspace: secureamlsdemo),\n",
       " 'mslearn-diabetes-pipeline-try7': Experiment(Name: mslearn-diabetes-pipeline-try7,\n",
       " Workspace: secureamlsdemo),\n",
       " 'auto-ml-fw': Experiment(Name: auto-ml-fw,\n",
       " Workspace: secureamlsdemo),\n",
       " 'test-from-adf': Experiment(Name: test-from-adf,\n",
       " Workspace: secureamlsdemo),\n",
       " 'prebuilt-docker-image-test-1': Experiment(Name: prebuilt-docker-image-test-1,\n",
       " Workspace: secureamlsdemo),\n",
       " 'test-from-adf-try2': Experiment(Name: test-from-adf-try2,\n",
       " Workspace: secureamlsdemo),\n",
       " 'curated-environment-image-test-1': Experiment(Name: curated-environment-image-test-1,\n",
       " Workspace: secureamlsdemo)}"
      ]
     },
     "execution_count": 17,
     "metadata": {},
     "output_type": "execute_result"
    }
   ],
   "source": [
    "ws.experiments"
   ]
  },
  {
   "cell_type": "code",
   "execution_count": null,
   "metadata": {},
   "outputs": [],
   "source": []
  }
 ],
 "metadata": {
  "interpreter": {
   "hash": "281609b3c4e7b8ad26c7d923af5581742be9d2be49474fa2d9e9e95b9202c78a"
  },
  "kernelspec": {
   "display_name": "Python 3.7.9 ('amls_venv')",
   "language": "python",
   "name": "python3"
  },
  "language_info": {
   "codemirror_mode": {
    "name": "ipython",
    "version": 3
   },
   "file_extension": ".py",
   "mimetype": "text/x-python",
   "name": "python",
   "nbconvert_exporter": "python",
   "pygments_lexer": "ipython3",
   "version": "3.7.9"
  },
  "orig_nbformat": 4
 },
 "nbformat": 4,
 "nbformat_minor": 2
}
